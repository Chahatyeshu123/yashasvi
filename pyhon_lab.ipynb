{
  "nbformat": 4,
  "nbformat_minor": 0,
  "metadata": {
    "colab": {
      "provenance": [],
      "authorship_tag": "ABX9TyNgHO1CFvAM/BHgRubrPr3u",
      "include_colab_link": true
    },
    "kernelspec": {
      "name": "python3",
      "display_name": "Python 3"
    },
    "language_info": {
      "name": "python"
    }
  },
  "cells": [
    {
      "cell_type": "markdown",
      "metadata": {
        "id": "view-in-github",
        "colab_type": "text"
      },
      "source": [
        "<a href=\"https://colab.research.google.com/github/Chahatyeshu123/yashasvi/blob/main/pyhon_lab.ipynb\" target=\"_parent\"><img src=\"https://colab.research.google.com/assets/colab-badge.svg\" alt=\"Open In Colab\"/></a>"
      ]
    },
    {
      "cell_type": "code",
      "execution_count": 1,
      "metadata": {
        "colab": {
          "base_uri": "https://localhost:8080/"
        },
        "id": "177VMQaJL6Sc",
        "outputId": "c0b7e1a6-ef35-4ca7-876b-6d87e7a85c45"
      },
      "outputs": [
        {
          "output_type": "execute_result",
          "data": {
            "text/plain": [
              "(1, 2, 3)"
            ]
          },
          "metadata": {},
          "execution_count": 1
        }
      ],
      "source": [
        "l=[1,2,3]\n",
        "iterator=iter(l)\n",
        "a,b,c=iterator\n",
        "a,b,c"
      ]
    },
    {
      "cell_type": "code",
      "source": [
        "from itertools import count\n",
        "number=0\n",
        "for number in count (start=1, step=2):\n",
        "  if number>10:\n",
        "    break\n",
        "  print(number)"
      ],
      "metadata": {
        "colab": {
          "base_uri": "https://localhost:8080/"
        },
        "id": "8IvVwJ8WM6L9",
        "outputId": "a5d2fe15-9a59-43ea-c8b4-f94e114d9a6d"
      },
      "execution_count": 2,
      "outputs": [
        {
          "output_type": "stream",
          "name": "stdout",
          "text": [
            "1\n",
            "3\n",
            "5\n",
            "7\n",
            "9\n"
          ]
        }
      ]
    },
    {
      "cell_type": "code",
      "source": [
        "import itertools\n",
        "for i in itertools.count(5,5):\n",
        "  if i==35:\n",
        "    break\n",
        "  else:\n",
        "    print(i,end=\" \")"
      ],
      "metadata": {
        "colab": {
          "base_uri": "https://localhost:8080/"
        },
        "id": "yEV9hCHeMf6V",
        "outputId": "b27e1073-5cd2-4fa3-c9dd-4f7a42922ceb"
      },
      "execution_count": 3,
      "outputs": [
        {
          "output_type": "stream",
          "name": "stdout",
          "text": [
            "5 10 15 20 25 30 "
          ]
        }
      ]
    },
    {
      "cell_type": "code",
      "source": [
        "import itertools\n",
        "count=0\n",
        "for i in itertools.cycle('AB'):\n",
        "  if count>7:\n",
        "    break\n",
        "  else:\n",
        "    print(i,end=\" \")\n",
        "    count +=1"
      ],
      "metadata": {
        "colab": {
          "base_uri": "https://localhost:8080/"
        },
        "id": "rXb-IKxwPDV-",
        "outputId": "a62fbeab-beb3-46cb-cb17-6f7f0cf34e95"
      },
      "execution_count": 4,
      "outputs": [
        {
          "output_type": "stream",
          "name": "stdout",
          "text": [
            "A B A B A B A B "
          ]
        }
      ]
    },
    {
      "cell_type": "code",
      "source": [
        "import itertools\n",
        "print(\"printing the numbers reaptedly:\")\n",
        "print(list(itertools.repeat(25,4)))"
      ],
      "metadata": {
        "colab": {
          "base_uri": "https://localhost:8080/"
        },
        "id": "1VUKivz-Pu8x",
        "outputId": "8301103f-7fbf-447f-e785-9b6f47c72f21"
      },
      "execution_count": 5,
      "outputs": [
        {
          "output_type": "stream",
          "name": "stdout",
          "text": [
            "printing the numbers reaptedly:\n",
            "[25, 25, 25, 25]\n"
          ]
        }
      ]
    },
    {
      "cell_type": "code",
      "source": [
        "from itertools import product\n",
        "print(\"the cartesian product using repeat:\")\n",
        "print(list(product([1,2], repeat=2)))\n",
        "print()\n",
        "\n",
        "print(\"the cartesian product of the container: \")\n",
        "print(list(product([1,2])))\n",
        "print()\n",
        "\n",
        "print(\"the cartesian product of the container:\")\n",
        "print(list(product('ab',[3,4])))\n",
        "\n",
        "\n"
      ],
      "metadata": {
        "colab": {
          "base_uri": "https://localhost:8080/"
        },
        "id": "Y81OTT0lQdRq",
        "outputId": "44386938-7876-4510-e8c9-59bf0276dcf1"
      },
      "execution_count": 19,
      "outputs": [
        {
          "output_type": "stream",
          "name": "stdout",
          "text": [
            "the cartesian product using repeat:\n",
            "[(1, 1), (1, 2), (2, 1), (2, 2)]\n",
            "\n",
            "the cartesian product of the container: \n",
            "[(1,), (2,)]\n",
            "\n",
            "the cartesian product of the container:\n",
            "[('a', 3), ('a', 4), ('b', 3), ('b', 4)]\n"
          ]
        }
      ]
    },
    {
      "cell_type": "code",
      "source": [
        "from itertools import combinations\n",
        "print(\"all the combination of list in sorted order(without replacement) is:\")\n",
        "print(list(combinations(['a',2],2)))\n",
        "print()\n",
        "\n",
        "print(\"all the combination of string in sorted order(without replacement)is:\")\n",
        "print(list(combinations('ab',2)))\n",
        "print()\n",
        "\n",
        "print(\"all the combinations of list in sorted order(without replacement)is:\")\n",
        "print(list(combinations(range(2),1)))\n",
        "print()"
      ],
      "metadata": {
        "colab": {
          "base_uri": "https://localhost:8080/"
        },
        "id": "FonF8uw_TsuK",
        "outputId": "e93994d2-fbb5-4db3-d2f5-202ce236a242"
      },
      "execution_count": 20,
      "outputs": [
        {
          "output_type": "stream",
          "name": "stdout",
          "text": [
            "all the combination of list in sorted order(without replacement) is:\n",
            "[('a', 2)]\n",
            "\n",
            "all the combination of string in sorted order(without replacement)is:\n",
            "[('a', 'b')]\n",
            "\n",
            "all the combinations of list in sorted order(without replacement)is:\n",
            "[(0,), (1,)]\n",
            "\n"
          ]
        }
      ]
    },
    {
      "cell_type": "code",
      "source": [
        "import itertools\n",
        "import operator\n",
        "lil=[1,4,5,7]\n",
        "print(\"the sum after each iteration is:\",end=\" \")\n",
        "print(list(itertools.accumulate(lil)))\n",
        "\n",
        "print(\"the product after each iteration is:\",end=\"\")\n",
        "print(list(itertools.accumulate(lil, operator.mul)))"
      ],
      "metadata": {
        "colab": {
          "base_uri": "https://localhost:8080/"
        },
        "id": "5-xRAtR8WMvq",
        "outputId": "9fb889e9-f73a-44c2-e136-7905257685e6"
      },
      "execution_count": 21,
      "outputs": [
        {
          "output_type": "stream",
          "name": "stdout",
          "text": [
            "the sum after each iteration is: [1, 5, 10, 17]\n",
            "the product after each iteration is:[1, 4, 20, 140]\n"
          ]
        }
      ]
    },
    {
      "cell_type": "code",
      "source": [
        "import itertools\n",
        "li1=[1,4,5,7]\n",
        "li2=[1,6,5,9]\n",
        "li3=[8,10,5,4]\n",
        "\n",
        "print(\"all values in mentioned chain are:\",end=\" \")\n",
        "print(list(itertools.chain(li1,li2,li3)))"
      ],
      "metadata": {
        "colab": {
          "base_uri": "https://localhost:8080/"
        },
        "id": "BHZvsAEfXZxg",
        "outputId": "e451adcb-460a-4f14-fe97-c0e40ed89be4"
      },
      "execution_count": 18,
      "outputs": [
        {
          "output_type": "stream",
          "name": "stdout",
          "text": [
            "all values in mentioned chain are: [1, 4, 5, 7, 1, 6, 5, 9, 8, 10, 5, 4]\n"
          ]
        }
      ]
    },
    {
      "cell_type": "code",
      "source": [
        "import itertools\n",
        "li1=[1,4,5,7]\n",
        "li2=[1,6,5,9]\n",
        "li3=[8,10,5,4]\n",
        "li4=[li1,li2,li3]\n",
        "\n",
        "print(\"all values in mentioned chain are:\",end=\" \")\n",
        "print(list(itertools.chain.from_iterable(li4)))"
      ],
      "metadata": {
        "colab": {
          "base_uri": "https://localhost:8080/"
        },
        "id": "3fWdga8NYCVj",
        "outputId": "d6ad24bc-0c4b-4b27-d53c-aca1dfac9cb2"
      },
      "execution_count": 16,
      "outputs": [
        {
          "output_type": "stream",
          "name": "stdout",
          "text": [
            "all values in mentioned chain are: [1, 4, 5, 7, 1, 6, 5, 9, 8, 10, 5, 4]\n"
          ]
        }
      ]
    },
    {
      "cell_type": "code",
      "source": [
        "import itertools\n",
        "print(\"the compressed values in string are:\", end=\"\")\n",
        "print(list(itertools.compress(\"GEEKSFORGEEKS\",[1,0,0,0,0,1,0,0,1,0,0,0,0,0,])))"
      ],
      "metadata": {
        "colab": {
          "base_uri": "https://localhost:8080/"
        },
        "id": "SCJUhXe4Y5ow",
        "outputId": "bc1fe7b3-39d3-40e9-8c7e-484cb6ee63d3"
      },
      "execution_count": 15,
      "outputs": [
        {
          "output_type": "stream",
          "name": "stdout",
          "text": [
            "the compressed values in string are:['G', 'F', 'G']\n"
          ]
        }
      ]
    },
    {
      "cell_type": "code",
      "source": [
        "import itertools\n",
        "li=[2,4,5,7,8]\n",
        "print(\"the values after condition return false\", end=\"\")\n",
        "print(list(itertools.dropwhile(lambda x: x%2==0,li)))"
      ],
      "metadata": {
        "colab": {
          "base_uri": "https://localhost:8080/"
        },
        "id": "yiaGSg56ZqxI",
        "outputId": "eb58aa61-08b5-4cd4-92db-2be150cdf0cb"
      },
      "execution_count": 14,
      "outputs": [
        {
          "output_type": "stream",
          "name": "stdout",
          "text": [
            "the values after condition return false[5, 7, 8]\n"
          ]
        }
      ]
    },
    {
      "cell_type": "code",
      "source": [
        "from functools import partial\n",
        "\n",
        "def power(a,b):\n",
        "  return a**b\n",
        "\n",
        "  pow2=partial(power,b=2)\n",
        "  pow4=partial(power, b=4)\n",
        "  power_of_5=partial(power,3)\n",
        "\n",
        "  print(power(2,3))\n",
        "  print(power2(4))\n",
        "  print(power(3))\n",
        "  print(power_of_5(2))\n",
        "\n",
        "  print('function used in partial function pow2:',pow2.func)\n",
        "  print('default keywords for pow2:',pow2.keywords)\n",
        "  print('default arguments for power_of_5:',power_of_5.args)"
      ],
      "metadata": {
        "id": "dRBOZn79nuzc"
      },
      "execution_count": 12,
      "outputs": []
    },
    {
      "cell_type": "code",
      "source": [
        "from functools import reduce\n",
        "list1 ={2,4,7,9,1,3}\n",
        "sum_of_list1 =reduce(lambda a, b:a+b, list1)\n",
        "\n",
        "list2=[\"abc\",\"xyz\",\"def\"]\n",
        "max_of_list2=reduce(lambda a, b:a if a>b else b, list2)\n",
        "\n",
        "print('sum of list1:',sum_of_list1)\n",
        "print('maximum of list2:',max_of_list2)"
      ],
      "metadata": {
        "id": "DwrDEwnarRKy",
        "colab": {
          "base_uri": "https://localhost:8080/"
        },
        "outputId": "26e97d30-fd50-402f-b66d-8367fb417310"
      },
      "execution_count": 13,
      "outputs": [
        {
          "output_type": "stream",
          "name": "stdout",
          "text": [
            "sum of list1: 26\n",
            "maximum of list2: xyz\n"
          ]
        }
      ]
    },
    {
      "cell_type": "code",
      "source": [
        "from functools import partialmethod\n",
        "class Demo:\n",
        "  def __init__(self):\n",
        "    self.color='black'\n",
        "  def _color(self,type):\n",
        "    self.color=type\n",
        "  set_red=partialmethod(_color,type='red')\n",
        "  set_blue=partialmethod(_color,type='blue')\n",
        "  set_green=partialmethod(_color,type='green')\n",
        "obj=Demo()\n",
        "print(obj.color)\n",
        "obj.set_blue()\n",
        "print(obj.color)\n",
        "obj.set_red()\n",
        "print(obj.color)\n",
        "obj.set_green()\n",
        "print(obj.color)\n"
      ],
      "metadata": {
        "colab": {
          "base_uri": "https://localhost:8080/"
        },
        "id": "eoSAFl8uczMq",
        "outputId": "9f4a46ca-b300-4f0c-9e5b-37ddf96b2d8b"
      },
      "execution_count": 11,
      "outputs": [
        {
          "output_type": "stream",
          "name": "stdout",
          "text": [
            "black\n",
            "blue\n",
            "red\n",
            "green\n"
          ]
        }
      ]
    },
    {
      "cell_type": "code",
      "source": [
        "from functools import total_ordering\n",
        "\n",
        "@total_ordering\n",
        "class N:\n",
        "    def __init__(self, value):\n",
        "        self.value = value\n",
        "\n",
        "    def __eq__(self, other):\n",
        "        return self.value == other.value\n",
        "\n",
        "    def __lt__(self, other):  # Corrected method name\n",
        "        return self.value < other.value\n",
        "\n",
        "print('6 > 2:', N(6) > N(2))\n",
        "print('3 < 1:', N(3) < N(1))\n",
        "print('2 <= 7:', N(2) <= N(7))\n",
        "print('9 >= 10:', N(9) >= N(10))\n",
        "print('5 == 5:', N(5) == N(5))\n"
      ],
      "metadata": {
        "colab": {
          "base_uri": "https://localhost:8080/"
        },
        "id": "F5MyftObppp1",
        "outputId": "2bc36572-dbdf-42d6-8411-312c120886ee"
      },
      "execution_count": 10,
      "outputs": [
        {
          "output_type": "stream",
          "name": "stdout",
          "text": [
            "6 > 2: True\n",
            "3 < 1: False\n",
            "2 <= 7: True\n",
            "9 >= 10: False\n",
            "5 == 5: True\n"
          ]
        }
      ]
    },
    {
      "cell_type": "code",
      "source": [
        "def main():\n",
        "  obj1=open(\"demo1.txt\",\"w\")\n",
        "  obj1.write(\"hello,how are you?\\n\")\n",
        "  obj1.write(\"welcome to file handling\\n\")\n",
        "main()"
      ],
      "metadata": {
        "id": "Rp1RYOypWrDK"
      },
      "execution_count": null,
      "outputs": []
    },
    {
      "cell_type": "code",
      "source": [
        "file_object = open(\"myfile.txt\", \"w\")\n",
        "file_object.write(\"This is a new file.\\n\")\n",
        "file_object.close()"
      ],
      "metadata": {
        "id": "adKEsZ5NgKW0"
      },
      "execution_count": null,
      "outputs": []
    },
    {
      "cell_type": "code",
      "source": [
        "\n",
        "file_object = open(\"myfile.txt\", \"a\")\n",
        "file_object.write(\"This is new content to append.\")\n",
        "file_object.close()\n",
        "\n"
      ],
      "metadata": {
        "id": "PCI36ZbVgNqX"
      },
      "execution_count": 9,
      "outputs": []
    },
    {
      "cell_type": "code",
      "source": [
        "file_object = open(\"myfile.txt\", \"r\")\n",
        "\n"
      ],
      "metadata": {
        "id": "iwFswWSvgWZD"
      },
      "execution_count": 22,
      "outputs": []
    },
    {
      "cell_type": "code",
      "source": [
        "from itertools import count\n",
        "\n",
        "with open('output.txt', 'w') as f:\n",
        "    for number in count(start=1, step=2):\n",
        "        if number > 10:\n",
        "            break\n",
        "        print(number, file=f)"
      ],
      "metadata": {
        "id": "P6QqMzcEi5w-"
      },
      "execution_count": 6,
      "outputs": []
    },
    {
      "cell_type": "code",
      "source": [
        "import itertools\n",
        "\n",
        "with open('out.txt', 'w') as f:\n",
        " for i in itertools.count(5,5):\n",
        "  if i==35:\n",
        "    break\n",
        "  else:\n",
        "    print(i,end=\" \")"
      ],
      "metadata": {
        "colab": {
          "base_uri": "https://localhost:8080/"
        },
        "id": "uuw3IEMml7ym",
        "outputId": "7c32c366-9b20-4cc9-e707-41655767e177"
      },
      "execution_count": 7,
      "outputs": [
        {
          "output_type": "stream",
          "name": "stdout",
          "text": [
            "5 10 15 20 25 30 "
          ]
        }
      ]
    }
  ]
}