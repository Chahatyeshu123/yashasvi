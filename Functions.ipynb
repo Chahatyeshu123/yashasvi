{
  "cells": [
    {
      "cell_type": "markdown",
      "metadata": {
        "id": "view-in-github",
        "colab_type": "text"
      },
      "source": [
        "<a href=\"https://colab.research.google.com/github/Chahatyeshu123/yashasvi/blob/main/Functions.ipynb\" target=\"_parent\"><img src=\"https://colab.research.google.com/assets/colab-badge.svg\" alt=\"Open In Colab\"/></a>"
      ]
    },
    {
      "cell_type": "code",
      "execution_count": null,
      "metadata": {
        "colab": {
          "base_uri": "https://localhost:8080/"
        },
        "id": "ZOV6XwunMBGu",
        "outputId": "d61a3fd7-2225-4b5b-89b4-2d6c0031c6e2"
      },
      "outputs": [
        {
          "name": "stdout",
          "output_type": "stream",
          "text": [
            "welcome to python programing​\n"
          ]
        }
      ],
      "source": [
        "\n",
        "variable = \"welcome to python programing​\"\n",
        "\n",
        "print(variable)\n",
        "\n",
        "\n",
        ""
      ]
    },
    {
      "cell_type": "code",
      "execution_count": null,
      "metadata": {
        "colab": {
          "base_uri": "https://localhost:8080/"
        },
        "id": "DRmimE4H60x0",
        "outputId": "0fd8d3b0-988b-4021-8a0a-025d3dd78d58"
      },
      "outputs": [
        {
          "name": "stdout",
          "output_type": "stream",
          "text": [
            "Enter your Name:chahat\n",
            "welcome to python programming!!! chahat\n"
          ]
        }
      ],
      "source": [
        "name = input (\"Enter your Name:\")\n",
        "\n",
        "print (\"welcome to python programming!!!\", name)"
      ]
    },
    {
      "cell_type": "code",
      "execution_count": null,
      "metadata": {
        "colab": {
          "base_uri": "https://localhost:8080/"
        },
        "id": "D2aFoVCkNF2k",
        "outputId": "8d1045db-59b2-463f-ca91-721fc66ded0e"
      },
      "outputs": [
        {
          "name": "stdout",
          "output_type": "stream",
          "text": [
            "45\n"
          ]
        }
      ],
      "source": [
        "\n",
        "def getSum(n):\n",
        "\n",
        "    sum = 0\n",
        "    for digit in str(n):\n",
        "      sum += int(digit)\n",
        "    return sum\n",
        "\n",
        "n = 123456789\n",
        "print(getSum(n))"
      ]
    },
    {
      "cell_type": "code",
      "execution_count": null,
      "metadata": {
        "colab": {
          "base_uri": "https://localhost:8080/"
        },
        "id": "t6ug8hPNNnpw",
        "outputId": "914b6e12-5aa0-4f2c-839a-99b7bc2e74eb"
      },
      "outputs": [
        {
          "name": "stdout",
          "output_type": "stream",
          "text": [
            "4\n"
          ]
        }
      ],
      "source": [
        "\n",
        "def maximum(a, b):\n",
        "\n",
        "    if a >= b:\n",
        "        return a\n",
        "    else:\n",
        "        return b\n",
        "\n",
        "\n",
        "a = 2\n",
        "b = 4\n",
        "print(maximum(a, b))"
      ]
    },
    {
      "cell_type": "code",
      "execution_count": null,
      "metadata": {
        "colab": {
          "base_uri": "https://localhost:8080/"
        },
        "id": "G74FaKmQNwbH",
        "outputId": "17fbcfbb-6fd5-4d36-dabe-b334305b53fd"
      },
      "outputs": [
        {
          "name": "stdout",
          "output_type": "stream",
          "text": [
            "The factorial of 9 is 362880\n"
          ]
        }
      ],
      "source": [
        "\n",
        "num = 9\n",
        "\n",
        "factorial = 1\n",
        "if num < 0:\n",
        "   print(\"Sorry, factorial does not exist for negative numbers\")\n",
        "elif num == 0:\n",
        "   print(\"The factorial of 0 is 1\")\n",
        "else:\n",
        "   for i in range(1,num + 1):\n",
        "       factorial = factorial*i\n",
        "   print(\"The factorial of\",num,\"is\",factorial)"
      ]
    },
    {
      "cell_type": "code",
      "execution_count": null,
      "metadata": {
        "colab": {
          "base_uri": "https://localhost:8080/"
        },
        "id": "9Gr6C2daQBp5",
        "outputId": "c1ca88e7-5662-4518-af6b-19645000d213"
      },
      "outputs": [
        {
          "name": "stdout",
          "output_type": "stream",
          "text": [
            "Name: chahat\n",
            "Age: 19\n",
            "Address: jaipur,rajasthan India\n"
          ]
        }
      ],
      "source": [
        "\n",
        "def personal_details():\n",
        "    name, age = \"chahat\", 19\n",
        "    address = \"jaipur,rajasthan India\"\n",
        "    print(\"Name: {}\\nAge: {}\\nAddress: {}\".format(name, age, address))\n",
        "\n",
        "personal_details()\n"
      ]
    },
    {
      "cell_type": "code",
      "execution_count": null,
      "metadata": {
        "id": "dAe0Bw7GRhYv"
      },
      "outputs": [],
      "source": [
        "\n",
        "def add_numbers( a = 7,  b = 8):\n",
        "    sum = a + b\n",
        "    print('Sum:', sum)\n",
        "\n"
      ]
    },
    {
      "cell_type": "code",
      "execution_count": null,
      "metadata": {
        "id": "GeRCnhztekAP",
        "colab": {
          "base_uri": "https://localhost:8080/"
        },
        "outputId": "93d3f9e6-fb3d-42c9-b1ea-55b427e3ae4a"
      },
      "outputs": [
        {
          "output_type": "stream",
          "name": "stdout",
          "text": [
            "enter sno:1\n",
            "enter name:8\n",
            "Enter Marks Obtained in 5 Subjects: \n",
            "88\n",
            "99\n",
            "87\n",
            "85\n",
            "98\n",
            "Average Mark = 91.4\n",
            "total marks = 457\n"
          ]
        }
      ],
      "source": [
        "sno = int(input(\"enter sno:\"))\n",
        "name = int(input(\"enter name:\"))\n",
        "\n",
        "print(\"Enter Marks Obtained in 5 Subjects: \")\n",
        "mOne = int(input())\n",
        "mTwo = int(input())\n",
        "mThree = int(input())\n",
        "mFour = int(input())\n",
        "mFive = int(input())\n",
        "\n",
        "sum = mOne+mTwo+mThree+mFour+mFive\n",
        "avg = sum/5\n",
        "perc = (sum/500)*100\n",
        "total = mOne+mTwo+mThree+mFour+mFive\n",
        "print(end=\"Average Mark = \")\n",
        "print(avg)\n",
        "print(end=\"total marks = \")\n",
        "print(total)"
      ]
    },
    {
      "cell_type": "code",
      "source": [
        "def getSum(n):\n",
        "\n",
        "    sum = 0\n",
        "    for digit in str(n):\n",
        "      sum += int(digit)\n",
        "    return sum\n",
        "\n",
        "n = 12345\n",
        "print(getSum(n))"
      ],
      "metadata": {
        "colab": {
          "base_uri": "https://localhost:8080/"
        },
        "id": "kb12OXtsFj9W",
        "outputId": "6bf7a60a-a420-4553-a0d6-9e6d9e5aa07c"
      },
      "execution_count": null,
      "outputs": [
        {
          "output_type": "stream",
          "name": "stdout",
          "text": [
            "15\n"
          ]
        }
      ]
    },
    {
      "cell_type": "code",
      "source": [
        "def test_range(n):\n",
        "    if n in range(10,20):\n",
        "        print( \"Number %s is in the range\"%str(n))\n",
        "    else :\n",
        "        print(\"The number is outside the given range.\")\n",
        "test_range(15)"
      ],
      "metadata": {
        "colab": {
          "base_uri": "https://localhost:8080/"
        },
        "id": "GFrhFZjZG68t",
        "outputId": "ff918ea7-f853-4563-b12b-3056d676fdb6"
      },
      "execution_count": null,
      "outputs": [
        {
          "output_type": "stream",
          "name": "stdout",
          "text": [
            "Number 15 is in the range\n"
          ]
        }
      ]
    },
    {
      "cell_type": "code",
      "source": [
        "\n",
        "  num = int(input(\"enter the number:\"))\n",
        "\n",
        "flag = False\n",
        "\n",
        "if num == 1:\n",
        "    print(num, \"is not a prime number\")\n",
        "elif num > 1:\n",
        "\n",
        "    for i in range(2, num):\n",
        "        if (num % i) == 0:\n",
        "\n",
        "            flag = True\n",
        "\n",
        "            break\n",
        "\n",
        "\n",
        "    if flag:\n",
        "        print(num, \"is not a prime number\")\n",
        "    else:\n",
        "        print(num, \"is a prime number\")"
      ],
      "metadata": {
        "colab": {
          "base_uri": "https://localhost:8080/"
        },
        "id": "_REWT0WKIXmN",
        "outputId": "de3e1403-1510-4171-e8b4-cc5bbb025440"
      },
      "execution_count": null,
      "outputs": [
        {
          "output_type": "stream",
          "name": "stdout",
          "text": [
            "enter the number:88\n",
            "88 is not a prime number\n"
          ]
        }
      ]
    },
    {
      "cell_type": "code",
      "source": [],
      "metadata": {
        "id": "Iwn8LWl3MeOD"
      },
      "execution_count": null,
      "outputs": []
    }
  ],
  "metadata": {
    "colab": {
      "provenance": [],
      "include_colab_link": true
    },
    "kernelspec": {
      "display_name": "Python 3",
      "name": "python3"
    },
    "language_info": {
      "name": "python"
    }
  },
  "nbformat": 4,
  "nbformat_minor": 0
}