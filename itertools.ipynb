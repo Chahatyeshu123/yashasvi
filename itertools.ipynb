{
  "nbformat": 4,
  "nbformat_minor": 0,
  "metadata": {
    "colab": {
      "provenance": [],
      "authorship_tag": "ABX9TyMi11BsxYDcU34jICB5LZA2",
      "include_colab_link": true
    },
    "kernelspec": {
      "name": "python3",
      "display_name": "Python 3"
    },
    "language_info": {
      "name": "python"
    }
  },
  "cells": [
    {
      "cell_type": "markdown",
      "metadata": {
        "id": "view-in-github",
        "colab_type": "text"
      },
      "source": [
        "<a href=\"https://colab.research.google.com/github/Chahatyeshu123/yashasvi/blob/main/itertools.ipynb\" target=\"_parent\"><img src=\"https://colab.research.google.com/assets/colab-badge.svg\" alt=\"Open In Colab\"/></a>"
      ]
    },
    {
      "cell_type": "code",
      "execution_count": null,
      "metadata": {
        "colab": {
          "base_uri": "https://localhost:8080/"
        },
        "id": "177VMQaJL6Sc",
        "outputId": "f0626eb2-9f94-483b-b8ea-d7b1fa9410fc"
      },
      "outputs": [
        {
          "output_type": "execute_result",
          "data": {
            "text/plain": [
              "(1, 2, 3)"
            ]
          },
          "metadata": {},
          "execution_count": 1
        }
      ],
      "source": [
        "l=[1,2,3]\n",
        "iterator=iter(l)\n",
        "a,b,c=iterator\n",
        "a,b,c"
      ]
    },
    {
      "cell_type": "code",
      "source": [
        "from itertools import count\n",
        "number=0\n",
        "for number in count (start=1, step=2):\n",
        "  if number>10:\n",
        "    break\n",
        "  print(number)"
      ],
      "metadata": {
        "colab": {
          "base_uri": "https://localhost:8080/"
        },
        "id": "8IvVwJ8WM6L9",
        "outputId": "af0d5989-5e6a-477b-bb5e-2a504d1aa2d2"
      },
      "execution_count": null,
      "outputs": [
        {
          "output_type": "stream",
          "name": "stdout",
          "text": [
            "1\n",
            "3\n",
            "5\n",
            "7\n",
            "9\n"
          ]
        }
      ]
    },
    {
      "cell_type": "code",
      "source": [
        "import itertools\n",
        "for i in itertools.count(5,5):\n",
        "  if i==35:\n",
        "    break\n",
        "  else:\n",
        "    print(i,end=\" \")"
      ],
      "metadata": {
        "colab": {
          "base_uri": "https://localhost:8080/"
        },
        "id": "yEV9hCHeMf6V",
        "outputId": "bcc7677f-96bc-479d-aac7-5eff2cc056ab"
      },
      "execution_count": null,
      "outputs": [
        {
          "output_type": "stream",
          "name": "stdout",
          "text": [
            "5 10 15 20 25 30 "
          ]
        }
      ]
    },
    {
      "cell_type": "code",
      "source": [
        "import itertools\n",
        "count=0\n",
        "for i in itertools.cycle('AB'):\n",
        "  if count>7:\n",
        "    break\n",
        "  else:\n",
        "    print(i,end=\" \")\n",
        "    count +=1"
      ],
      "metadata": {
        "colab": {
          "base_uri": "https://localhost:8080/"
        },
        "id": "rXb-IKxwPDV-",
        "outputId": "6801841e-22e7-4ce9-f132-9b0750e6ccd6"
      },
      "execution_count": null,
      "outputs": [
        {
          "output_type": "stream",
          "name": "stdout",
          "text": [
            "A B A B A B A B "
          ]
        }
      ]
    },
    {
      "cell_type": "code",
      "source": [
        "import itertools\n",
        "print(\"printing the numbers reaptedly:\")\n",
        "print(list(itertools.repeat(25,4)))"
      ],
      "metadata": {
        "colab": {
          "base_uri": "https://localhost:8080/"
        },
        "id": "1VUKivz-Pu8x",
        "outputId": "0b931fdb-d52b-4de8-b3f4-39e3bba3ae78"
      },
      "execution_count": null,
      "outputs": [
        {
          "output_type": "stream",
          "name": "stdout",
          "text": [
            "printing the numbers reaptedly:\n",
            "[25, 25, 25, 25]\n"
          ]
        }
      ]
    },
    {
      "cell_type": "code",
      "source": [
        "from itertools import product\n",
        "print(\"the cartesian product using repeat:\")\n",
        "print(list(product([1,2], repeat=2)))\n",
        "print()\n",
        "\n",
        "print(\"the cartesian product of the container: \")\n",
        "print(list(product([1,2])))\n",
        "print()\n",
        "\n",
        "print(\"the cartesian product of the container:\")\n",
        "print(list(product('ab',[3,4])))\n",
        "\n",
        "\n"
      ],
      "metadata": {
        "colab": {
          "base_uri": "https://localhost:8080/"
        },
        "id": "Y81OTT0lQdRq",
        "outputId": "fa323106-1f1e-4e50-85fe-6d497599a64f"
      },
      "execution_count": null,
      "outputs": [
        {
          "output_type": "stream",
          "name": "stdout",
          "text": [
            "the cartesian product using repeat:\n",
            "[(1, 1), (1, 2), (2, 1), (2, 2)]\n",
            "\n",
            "the cartesian product of the container: \n",
            "[(1,), (2,)]\n",
            "\n",
            "the cartesian product of the container:\n",
            "[('a', 3), ('a', 4), ('b', 3), ('b', 4)]\n"
          ]
        }
      ]
    },
    {
      "cell_type": "code",
      "source": [
        "from itertools import combinations\n",
        "print(\"all the combination of list in sorted order(without replacement) is:\")\n",
        "print(list(combinations(['a',2],2)))\n",
        "print()\n",
        "\n",
        "print(\"all the combination of string in sorted order(without replacement)is:\")\n",
        "print(list(combinations('ab',2)))\n",
        "print()\n",
        "\n",
        "print(\"all the combinations of list in sorted order(without replacement)is:\")\n",
        "print(list(combinations(range(2),1)))\n",
        "print()"
      ],
      "metadata": {
        "colab": {
          "base_uri": "https://localhost:8080/"
        },
        "id": "FonF8uw_TsuK",
        "outputId": "324459d0-d5cf-490d-fafa-4adc448ecda2"
      },
      "execution_count": null,
      "outputs": [
        {
          "output_type": "stream",
          "name": "stdout",
          "text": [
            "all the combination of list in sorted order(without replacement) is:\n",
            "[('a', 2)]\n",
            "\n",
            "all the combination of string in sorted order(without replacement)is:\n",
            "[('a', 'b')]\n",
            "\n",
            "all the combinations of list in sorted order(without replacement)is:\n",
            "[(0,), (1,)]\n",
            "\n"
          ]
        }
      ]
    },
    {
      "cell_type": "code",
      "source": [
        "import itertools\n",
        "import operator\n",
        "lil=[1,4,5,7]\n",
        "print(\"the sum after each iteration is:\",end=\" \")\n",
        "print(list(itertools.accumulate(lil)))\n",
        "\n",
        "print(\"the product after each iteration is:\",end=\"\")\n",
        "print(list(itertools.accumulate(lil, operator.mul)))"
      ],
      "metadata": {
        "colab": {
          "base_uri": "https://localhost:8080/"
        },
        "id": "5-xRAtR8WMvq",
        "outputId": "19664307-7a13-49fc-9ef3-a7ffcd8ce95a"
      },
      "execution_count": null,
      "outputs": [
        {
          "output_type": "stream",
          "name": "stdout",
          "text": [
            "the sum after each iteration is: [1, 5, 10, 17]\n",
            "the product after each iteration is:[1, 4, 20, 140]\n"
          ]
        }
      ]
    },
    {
      "cell_type": "code",
      "source": [
        "import itertools\n",
        "li1=[1,4,5,7]\n",
        "li2=[1,6,5,9]\n",
        "li3=[8,10,5,4]\n",
        "\n",
        "print(\"all values in mentioned chain are:\",end=\" \")\n",
        "print(list(itertools.chain(li1,li2,li3)))"
      ],
      "metadata": {
        "colab": {
          "base_uri": "https://localhost:8080/"
        },
        "id": "BHZvsAEfXZxg",
        "outputId": "774bcdd5-b65b-49f1-8452-08657af541df"
      },
      "execution_count": null,
      "outputs": [
        {
          "output_type": "stream",
          "name": "stdout",
          "text": [
            "all values in mentioned chain are: [1, 4, 5, 7, 1, 6, 5, 9, 8, 10, 5, 4]\n"
          ]
        }
      ]
    },
    {
      "cell_type": "code",
      "source": [
        "import itertools\n",
        "li1=[1,4,5,7]\n",
        "li2=[1,6,5,9]\n",
        "li3=[8,10,5,4]\n",
        "li4=[li1,li2,li3]\n",
        "\n",
        "print(\"all values in mentioned chain are:\",end=\" \")\n",
        "print(list(itertools.chain.from_iterable(li4)))"
      ],
      "metadata": {
        "colab": {
          "base_uri": "https://localhost:8080/"
        },
        "id": "3fWdga8NYCVj",
        "outputId": "022306e6-db24-42ad-fe35-66355d83a7a4"
      },
      "execution_count": null,
      "outputs": [
        {
          "output_type": "stream",
          "name": "stdout",
          "text": [
            "all values in mentioned chain are: [1, 4, 5, 7, 1, 6, 5, 9, 8, 10, 5, 4]\n"
          ]
        }
      ]
    },
    {
      "cell_type": "code",
      "source": [
        "import itertools\n",
        "print(\"the compressed values in string are:\", end=\"\")\n",
        "print(list(itertools.compress(\"GEEKSFORGEEKS\",[1,0,0,0,0,1,0,0,1,0,0,0,0,0,])))"
      ],
      "metadata": {
        "colab": {
          "base_uri": "https://localhost:8080/"
        },
        "id": "SCJUhXe4Y5ow",
        "outputId": "9a685837-caca-408a-b7a9-cf9c712ab31f"
      },
      "execution_count": null,
      "outputs": [
        {
          "output_type": "stream",
          "name": "stdout",
          "text": [
            "the compressed values in string are:['G', 'F', 'G']\n"
          ]
        }
      ]
    },
    {
      "cell_type": "code",
      "source": [
        "import itertools\n",
        "li=[2,4,5,7,8]\n",
        "print(\"the values after condition return false\", end=\"\")\n",
        "print(list(itertools.dropwhile(lambda x: x%2==0,li)))"
      ],
      "metadata": {
        "colab": {
          "base_uri": "https://localhost:8080/"
        },
        "id": "yiaGSg56ZqxI",
        "outputId": "f295d17d-a721-461d-db5c-cef2311775f7"
      },
      "execution_count": null,
      "outputs": [
        {
          "output_type": "stream",
          "name": "stdout",
          "text": [
            "the values after condition return false[5, 7, 8]\n"
          ]
        }
      ]
    },
    {
      "cell_type": "code",
      "source": [
        "from functools import partial\n",
        "\n",
        "def power(a,b):\n",
        "  return a**b\n",
        "\n",
        "  pow2=partial(power,b=2)\n",
        "  pow4=partial(power, b=4)\n",
        "  power_of_5=partial(power,3)\n",
        "\n",
        "  print(power(2,3))\n",
        "  print(power2(4))\n",
        "  print(power(3))\n",
        "  print(power_of_5(2))\n",
        "\n",
        "  print('function used in partial function pow2:',pow2.func)\n",
        "  print('default keywords for pow2:',pow2.keywords)\n",
        "  print('default arguments for power_of_5:',power_of_5.args)"
      ],
      "metadata": {
        "id": "dRBOZn79nuzc"
      },
      "execution_count": null,
      "outputs": []
    },
    {
      "cell_type": "code",
      "source": [
        "from functools import reduce\n",
        "list1 ={2,4,7,9,1,3}\n",
        "sum_of_list1 =reduce(lambda a, b:a+b, list1)\n",
        "\n",
        "list2=[\"abc\",\"xyz\",\"def\"]\n",
        "max_of_list2=reduce(lambda a, b:a if a>b else b, list2)\n",
        "\n",
        "print('sum of list1:',sum_of_list1)\n",
        "print('maximum of list2:',max_of_list2)"
      ],
      "metadata": {
        "id": "DwrDEwnarRKy",
        "colab": {
          "base_uri": "https://localhost:8080/"
        },
        "outputId": "15892a93-0930-4c04-8bde-e64a8e0e14ad"
      },
      "execution_count": null,
      "outputs": [
        {
          "output_type": "stream",
          "name": "stdout",
          "text": [
            "sum of list1: 26\n",
            "maximum of list2: xyz\n"
          ]
        }
      ]
    },
    {
      "cell_type": "code",
      "source": [
        "from functools import partialmethod\n",
        "class Demo:\n",
        "  def __init__(self):\n",
        "    self.color='black'\n",
        "  def _color(self,type):\n",
        "    self.color=type\n",
        "  set_red=partialmethod(_color,type='red')\n",
        "  set_blue=partialmethod(_color,type='blue')\n",
        "  set_green=partialmethod(_color,type='green')\n",
        "obj=Demo()\n",
        "print(obj.color)\n",
        "obj.set_blue()\n",
        "print(obj.color)\n",
        "obj.set_red()\n",
        "print(obj.color)\n",
        "obj.set_green()\n",
        "print(obj.color)\n"
      ],
      "metadata": {
        "colab": {
          "base_uri": "https://localhost:8080/"
        },
        "id": "eoSAFl8uczMq",
        "outputId": "44494567-5c6c-4a16-c9b9-cf6064042104"
      },
      "execution_count": null,
      "outputs": [
        {
          "output_type": "stream",
          "name": "stdout",
          "text": [
            "black\n",
            "blue\n",
            "red\n",
            "green\n"
          ]
        }
      ]
    },
    {
      "cell_type": "code",
      "source": [
        "from functools import total_ordering\n",
        "\n",
        "@total_ordering\n",
        "class N:\n",
        "    def __init__(self, value):\n",
        "        self.value = value\n",
        "\n",
        "    def __eq__(self, other):\n",
        "        return self.value == other.value\n",
        "\n",
        "    def __lt__(self, other):  # Corrected method name\n",
        "        return self.value < other.value\n",
        "\n",
        "print('6 > 2:', N(6) > N(2))\n",
        "print('3 < 1:', N(3) < N(1))\n",
        "print('2 <= 7:', N(2) <= N(7))\n",
        "print('9 >= 10:', N(9) >= N(10))\n",
        "print('5 == 5:', N(5) == N(5))\n"
      ],
      "metadata": {
        "colab": {
          "base_uri": "https://localhost:8080/"
        },
        "id": "F5MyftObppp1",
        "outputId": "df913852-6096-40bd-dc91-f270dbdb3b69"
      },
      "execution_count": null,
      "outputs": [
        {
          "output_type": "stream",
          "name": "stdout",
          "text": [
            "6 > 2: True\n",
            "3 < 1: False\n",
            "2 <= 7: True\n",
            "9 >= 10: False\n",
            "5 == 5: True\n"
          ]
        }
      ]
    },
    {
      "cell_type": "code",
      "source": [
        "def main():\n",
        "  obj1=open(\"demo1.txt\",\"w\")\n",
        "  obj1.write(\"hello,how are you?\\n\")\n",
        "  obj1.write(\"welcome to file handling\\n\")\n",
        "main()"
      ],
      "metadata": {
        "id": "Rp1RYOypWrDK"
      },
      "execution_count": null,
      "outputs": []
    },
    {
      "cell_type": "code",
      "source": [
        "file_object = open(\"myfile.txt\", \"w\")\n",
        "file_object.write(\"This is a new file.\\n\")\n",
        "file_object.close()"
      ],
      "metadata": {
        "id": "adKEsZ5NgKW0"
      },
      "execution_count": null,
      "outputs": []
    },
    {
      "cell_type": "code",
      "source": [
        "\n",
        "file_object = open(\"myfile.txt\", \"a\")\n",
        "file_object.write(\"This is new content to append.\")\n",
        "file_object.close()\n",
        "\n"
      ],
      "metadata": {
        "id": "PCI36ZbVgNqX"
      },
      "execution_count": null,
      "outputs": []
    },
    {
      "cell_type": "code",
      "source": [
        "file_object = open(\"myfile.txt\", \"r\")\n",
        "\n"
      ],
      "metadata": {
        "id": "iwFswWSvgWZD"
      },
      "execution_count": null,
      "outputs": []
    },
    {
      "cell_type": "code",
      "source": [
        "from itertools import count\n",
        "\n",
        "with open('output.txt', 'w') as f:\n",
        "    for number in count(start=1, step=2):\n",
        "        if number > 10:\n",
        "            break\n",
        "        print(number, file=f)"
      ],
      "metadata": {
        "id": "P6QqMzcEi5w-"
      },
      "execution_count": null,
      "outputs": []
    },
    {
      "cell_type": "code",
      "source": [
        "import itertools\n",
        "\n",
        "with open('output.txt', 'w') as f:\n",
        " for i in"
      ],
      "metadata": {
        "id": "eYBhi2RllUVA"
      },
      "execution_count": null,
      "outputs": []
    },
    {
      "cell_type": "code",
      "source": [
        "import itertools\n",
        "\n",
        "with open('out.txt', 'w') as f:\n",
        " for i in itertools.count(5,5):\n",
        "  if i==35:\n",
        "    break\n",
        "  else:\n",
        "    print(i,end=\" \")"
      ],
      "metadata": {
        "colab": {
          "base_uri": "https://localhost:8080/"
        },
        "id": "uuw3IEMml7ym",
        "outputId": "1b6cc38e-0b96-4af2-c93e-196be521d2cd"
      },
      "execution_count": null,
      "outputs": [
        {
          "output_type": "stream",
          "name": "stdout",
          "text": [
            "5 10 15 20 25 30 "
          ]
        }
      ]
    }
  ]
}